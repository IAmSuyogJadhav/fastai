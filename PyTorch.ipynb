{
  "nbformat": 4,
  "nbformat_minor": 0,
  "metadata": {
    "colab": {
      "name": "PyTorch.ipynb",
      "version": "0.3.2",
      "provenance": [],
      "collapsed_sections": [],
      "include_colab_link": true
    },
    "kernelspec": {
      "name": "python3",
      "display_name": "Python 3"
    }
  },
  "cells": [
    {
      "cell_type": "markdown",
      "metadata": {
        "id": "view-in-github",
        "colab_type": "text"
      },
      "source": [
        "<a href=\"https://colab.research.google.com/github/IAmSuyogJadhav/fastai/blob/master/PyTorch.ipynb\" target=\"_parent\"><img src=\"https://colab.research.google.com/assets/colab-badge.svg\" alt=\"Open In Colab\"/></a>"
      ]
    },
    {
      "metadata": {
        "id": "SxlcyqReTE_9",
        "colab_type": "text"
      },
      "cell_type": "markdown",
      "source": [
        "# Learning PyTorch\n",
        "from [here](https://www.kaggle.com/ashishpatel26/zero-to-hero-in-pytorch-ml-dl-rl/notebook)."
      ]
    },
    {
      "metadata": {
        "id": "vDiUr0TSUsyi",
        "colab_type": "text"
      },
      "cell_type": "markdown",
      "source": [
        "## Install PyTorch"
      ]
    },
    {
      "metadata": {
        "id": "tXPh539mUmDu",
        "colab_type": "text"
      },
      "cell_type": "markdown",
      "source": [
        "### Find CUDA Version"
      ]
    },
    {
      "metadata": {
        "id": "CpiiTjbyT_tY",
        "colab_type": "code",
        "colab": {
          "base_uri": "https://localhost:8080/",
          "height": 87
        },
        "outputId": "a8ce882f-cdb0-4bec-cd11-320ae0c5b30d"
      },
      "cell_type": "code",
      "source": [
        "!nvcc --version"
      ],
      "execution_count": 3,
      "outputs": [
        {
          "output_type": "stream",
          "text": [
            "nvcc: NVIDIA (R) Cuda compiler driver\n",
            "Copyright (c) 2005-2018 NVIDIA Corporation\n",
            "Built on Tue_Jun_12_23:07:04_CDT_2018\n",
            "Cuda compilation tools, release 9.2, V9.2.148\n"
          ],
          "name": "stdout"
        }
      ]
    },
    {
      "metadata": {
        "id": "Z6-iLqK6Uvmu",
        "colab_type": "text"
      },
      "cell_type": "markdown",
      "source": [
        "### Install for with pip for Python 3.6 and CUDA 9.2"
      ]
    },
    {
      "metadata": {
        "id": "upnuJJmuUGAg",
        "colab_type": "code",
        "colab": {
          "base_uri": "https://localhost:8080/",
          "height": 401
        },
        "outputId": "9b24832b-028f-4d6a-bebc-0b0fa6ebd406"
      },
      "cell_type": "code",
      "source": [
        "!pip3 install http://download.pytorch.org/whl/cu92/torch-0.4.1-cp36-cp36m-linux_x86_64.whl\n",
        "!pip3 install torchvision"
      ],
      "execution_count": 6,
      "outputs": [
        {
          "output_type": "stream",
          "text": [
            "Collecting torch==0.4.1 from http://download.pytorch.org/whl/cu92/torch-0.4.1-cp36-cp36m-linux_x86_64.whl\n",
            "\u001b[?25l  Downloading http://download.pytorch.org/whl/cu92/torch-0.4.1-cp36-cp36m-linux_x86_64.whl (512.6MB)\n",
            "\u001b[K    100% |████████████████████████████████| 512.6MB 105.2MB/s \n",
            "tcmalloc: large alloc 1073750016 bytes == 0x57860000 @  0x7f442d8e12a4 0x594e17 0x626104 0x51190a 0x4f5277 0x510c78 0x5119bd 0x4f5277 0x4f3338 0x510fb0 0x5119bd 0x4f5277 0x4f3338 0x510fb0 0x5119bd 0x4f5277 0x4f3338 0x510fb0 0x5119bd 0x4f6070 0x510c78 0x5119bd 0x4f5277 0x4f3338 0x510fb0 0x5119bd 0x4f6070 0x4f3338 0x510fb0 0x5119bd 0x4f6070\n",
            "\u001b[?25hInstalling collected packages: torch\n",
            "Successfully installed torch-0.4.1\n",
            "\n",
            "Collecting torchvision\n",
            "\u001b[?25l  Downloading https://files.pythonhosted.org/packages/ca/0d/f00b2885711e08bd71242ebe7b96561e6f6d01fdb4b9dcf4d37e2e13c5e1/torchvision-0.2.1-py2.py3-none-any.whl (54kB)\n",
            "\u001b[K    100% |████████████████████████████████| 61kB 2.2MB/s \n",
            "\u001b[?25hRequirement already satisfied: numpy in /usr/local/lib/python3.6/dist-packages (from torchvision) (1.14.6)\n",
            "Collecting pillow>=4.1.1 (from torchvision)\n",
            "\u001b[?25l  Downloading https://files.pythonhosted.org/packages/62/94/5430ebaa83f91cc7a9f687ff5238e26164a779cca2ef9903232268b0a318/Pillow-5.3.0-cp36-cp36m-manylinux1_x86_64.whl (2.0MB)\n",
            "\u001b[K    100% |████████████████████████████████| 2.0MB 7.5MB/s \n",
            "\u001b[?25hRequirement already satisfied: six in /usr/local/lib/python3.6/dist-packages (from torchvision) (1.11.0)\n",
            "Requirement already satisfied: torch in /usr/local/lib/python3.6/dist-packages (from torchvision) (0.4.1)\n",
            "Installing collected packages: pillow, torchvision\n",
            "  Found existing installation: Pillow 4.0.0\n",
            "    Uninstalling Pillow-4.0.0:\n",
            "      Successfully uninstalled Pillow-4.0.0\n",
            "Successfully installed pillow-5.3.0 torchvision-0.2.1\n"
          ],
          "name": "stdout"
        }
      ]
    },
    {
      "metadata": {
        "id": "bfttFkvSU222",
        "colab_type": "text"
      },
      "cell_type": "markdown",
      "source": [
        "## The basics"
      ]
    },
    {
      "metadata": {
        "id": "2X38m3IJSxiq",
        "colab_type": "code",
        "colab": {}
      },
      "cell_type": "code",
      "source": [
        "import numpy as np\n",
        "import torch"
      ],
      "execution_count": 0,
      "outputs": []
    },
    {
      "metadata": {
        "id": "MZACQC1AThAr",
        "colab_type": "code",
        "colab": {
          "base_uri": "https://localhost:8080/",
          "height": 104
        },
        "outputId": "f3288b4e-4542-46b9-92f7-261a89b541a0"
      },
      "cell_type": "code",
      "source": [
        "x = torch.empty(5, 3)  # Uninitialized matrix\n",
        "print(x)"
      ],
      "execution_count": 11,
      "outputs": [
        {
          "output_type": "stream",
          "text": [
            "tensor([[3.4976e-37, 0.0000e+00, 4.4842e-44],\n",
            "        [0.0000e+00,        nan, 0.0000e+00],\n",
            "        [1.3520e+22, 4.2094e+21, 5.2593e+22],\n",
            "        [1.0559e-08, 5.2708e-08, 2.6223e-09],\n",
            "        [2.1236e+20, 3.3356e-09, 1.3563e-19]])\n"
          ],
          "name": "stdout"
        }
      ]
    },
    {
      "metadata": {
        "id": "6gmyIBl3VfTK",
        "colab_type": "code",
        "colab": {
          "base_uri": "https://localhost:8080/",
          "height": 124
        },
        "outputId": "3b1bf13b-3f77-431d-e739-bdc6878ce360"
      },
      "cell_type": "code",
      "source": [
        "x.numpy()  # Convert to Numpy array"
      ],
      "execution_count": 12,
      "outputs": [
        {
          "output_type": "execute_result",
          "data": {
            "text/plain": [
              "array([[3.4975692e-37, 0.0000000e+00, 4.4841551e-44],\n",
              "       [0.0000000e+00,           nan, 0.0000000e+00],\n",
              "       [1.3519505e+22, 4.2094031e+21, 5.2593050e+22],\n",
              "       [1.0558825e-08, 5.2708145e-08, 2.6222546e-09],\n",
              "       [2.1236363e+20, 3.3355942e-09, 1.3563115e-19]], dtype=float32)"
            ]
          },
          "metadata": {
            "tags": []
          },
          "execution_count": 12
        }
      ]
    },
    {
      "metadata": {
        "id": "2HCbOLjNV29N",
        "colab_type": "code",
        "colab": {
          "base_uri": "https://localhost:8080/",
          "height": 35
        },
        "outputId": "becabab1-8b7b-4095-f5df-2fd2c72ce238"
      },
      "cell_type": "code",
      "source": [
        "x.size()  # returns SHAPE"
      ],
      "execution_count": 14,
      "outputs": [
        {
          "output_type": "execute_result",
          "data": {
            "text/plain": [
              "torch.Size([5, 3])"
            ]
          },
          "metadata": {
            "tags": []
          },
          "execution_count": 14
        }
      ]
    },
    {
      "metadata": {
        "id": "vpovkGMKWCs9",
        "colab_type": "text"
      },
      "cell_type": "markdown",
      "source": [
        "From Numpy to Tensor:"
      ]
    },
    {
      "metadata": {
        "id": "Gf--ezIRV_xr",
        "colab_type": "code",
        "colab": {
          "base_uri": "https://localhost:8080/",
          "height": 52
        },
        "outputId": "d33bccc5-74cf-41c8-ca62-338a88d491f2"
      },
      "cell_type": "code",
      "source": [
        "a = np.array([[3, 4], [4, 3]])\n",
        "b = torch.from_numpy(a)\n",
        "print(b)"
      ],
      "execution_count": 16,
      "outputs": [
        {
          "output_type": "stream",
          "text": [
            "tensor([[3, 4],\n",
            "        [4, 3]])\n"
          ],
          "name": "stdout"
        }
      ]
    },
    {
      "metadata": {
        "id": "C59-jx8MWZ45",
        "colab_type": "text"
      },
      "cell_type": "markdown",
      "source": [
        "### Tensor generators"
      ]
    },
    {
      "metadata": {
        "id": "NBym_9UTWSxg",
        "colab_type": "code",
        "colab": {
          "base_uri": "https://localhost:8080/",
          "height": 104
        },
        "outputId": "34556353-621c-4b19-8726-4f6cf8a796b8"
      },
      "cell_type": "code",
      "source": [
        "torch.rand(5, 3)  # Random values"
      ],
      "execution_count": 17,
      "outputs": [
        {
          "output_type": "execute_result",
          "data": {
            "text/plain": [
              "tensor([[0.2867, 0.5346, 0.3889],\n",
              "        [0.5715, 0.4647, 0.0837],\n",
              "        [0.5966, 0.4471, 0.9899],\n",
              "        [0.0984, 0.5792, 0.3462],\n",
              "        [0.5535, 0.6803, 0.2708]])"
            ]
          },
          "metadata": {
            "tags": []
          },
          "execution_count": 17
        }
      ]
    },
    {
      "metadata": {
        "id": "RhtZJ9KUWh3Q",
        "colab_type": "code",
        "colab": {
          "base_uri": "https://localhost:8080/",
          "height": 104
        },
        "outputId": "0f77193d-a463-4ebd-c08d-e5148322f48e"
      },
      "cell_type": "code",
      "source": [
        "torch.zeros(5, 3, dtype=torch.int8)"
      ],
      "execution_count": 19,
      "outputs": [
        {
          "output_type": "execute_result",
          "data": {
            "text/plain": [
              "tensor([[0, 0, 0],\n",
              "        [0, 0, 0],\n",
              "        [0, 0, 0],\n",
              "        [0, 0, 0],\n",
              "        [0, 0, 0]], dtype=torch.int8)"
            ]
          },
          "metadata": {
            "tags": []
          },
          "execution_count": 19
        }
      ]
    },
    {
      "metadata": {
        "id": "f1BdjvO8Wl3d",
        "colab_type": "code",
        "colab": {
          "base_uri": "https://localhost:8080/",
          "height": 104
        },
        "outputId": "2db44060-ca66-4e41-a068-4fa91a2b44dd"
      },
      "cell_type": "code",
      "source": [
        "torch.ones(5, 3, dtype=torch.float32)"
      ],
      "execution_count": 20,
      "outputs": [
        {
          "output_type": "execute_result",
          "data": {
            "text/plain": [
              "tensor([[1., 1., 1.],\n",
              "        [1., 1., 1.],\n",
              "        [1., 1., 1.],\n",
              "        [1., 1., 1.],\n",
              "        [1., 1., 1.]])"
            ]
          },
          "metadata": {
            "tags": []
          },
          "execution_count": 20
        }
      ]
    },
    {
      "metadata": {
        "id": "JrWmn8ASXKmv",
        "colab_type": "code",
        "colab": {
          "base_uri": "https://localhost:8080/",
          "height": 35
        },
        "outputId": "bebf980f-2ea7-4eaa-af6e-318864d8ac85"
      },
      "cell_type": "code",
      "source": [
        "x = torch.tensor([2, 4, 5, 6.6])\n",
        "print(x)"
      ],
      "execution_count": 22,
      "outputs": [
        {
          "output_type": "stream",
          "text": [
            "tensor([2.0000, 4.0000, 5.0000, 6.6000])\n"
          ],
          "name": "stdout"
        }
      ]
    },
    {
      "metadata": {
        "id": "K68mZtT4YCjm",
        "colab_type": "text"
      },
      "cell_type": "markdown",
      "source": [
        "### `.new_`* methods\n",
        "All of the methods that start with .new_* create a _new_ tensor, with the same `dtype` and `device` as the original tensor. \n",
        "- `.new_tensor(data)`: Data is `array-like`\n",
        "-  `.new_full(shape, fill_value)`\n",
        "- `.new_zeros(shape)`\n",
        "- `.new_ones(shape)`\n",
        "- `.new_empty(shape)`"
      ]
    },
    {
      "metadata": {
        "id": "kvB5xXkCXPKF",
        "colab_type": "code",
        "colab": {
          "base_uri": "https://localhost:8080/",
          "height": 104
        },
        "outputId": "2dcc0c03-a9ee-4ecc-9946-f10006336d56"
      },
      "cell_type": "code",
      "source": [
        "x.new_ones(5, 3)"
      ],
      "execution_count": 29,
      "outputs": [
        {
          "output_type": "execute_result",
          "data": {
            "text/plain": [
              "tensor([[1., 1., 1.],\n",
              "        [1., 1., 1.],\n",
              "        [1., 1., 1.],\n",
              "        [1., 1., 1.],\n",
              "        [1., 1., 1.]])"
            ]
          },
          "metadata": {
            "tags": []
          },
          "execution_count": 29
        }
      ]
    },
    {
      "metadata": {
        "id": "oddu6dfAXeLl",
        "colab_type": "code",
        "colab": {
          "base_uri": "https://localhost:8080/",
          "height": 35
        },
        "outputId": "f38e5bb6-086f-46a9-f190-833f04816a22"
      },
      "cell_type": "code",
      "source": [
        "x.new_empty(5)"
      ],
      "execution_count": 32,
      "outputs": [
        {
          "output_type": "execute_result",
          "data": {
            "text/plain": [
              "tensor([0.0000, 0.0000, 0.0000, 0.0000,    nan])"
            ]
          },
          "metadata": {
            "tags": []
          },
          "execution_count": 32
        }
      ]
    },
    {
      "metadata": {
        "id": "2wnmlaAhZfd_",
        "colab_type": "text"
      },
      "cell_type": "markdown",
      "source": [
        "### `.*_like()` methods"
      ]
    },
    {
      "metadata": {
        "id": "_w-SbD_eXizx",
        "colab_type": "code",
        "colab": {
          "base_uri": "https://localhost:8080/",
          "height": 35
        },
        "outputId": "1af9a7f4-1698-4384-8e24-33a0ae8744bc"
      },
      "cell_type": "code",
      "source": [
        "torch.randn_like(x)"
      ],
      "execution_count": 33,
      "outputs": [
        {
          "output_type": "execute_result",
          "data": {
            "text/plain": [
              "tensor([-0.3873, -0.1745,  0.6347, -0.5655])"
            ]
          },
          "metadata": {
            "tags": []
          },
          "execution_count": 33
        }
      ]
    },
    {
      "metadata": {
        "id": "jqC9B5EKZzkM",
        "colab_type": "code",
        "colab": {
          "base_uri": "https://localhost:8080/",
          "height": 35
        },
        "outputId": "b066af90-ffb3-49d4-cd66-eb156de7facf"
      },
      "cell_type": "code",
      "source": [
        "torch.zeros_like(x)"
      ],
      "execution_count": 34,
      "outputs": [
        {
          "output_type": "execute_result",
          "data": {
            "text/plain": [
              "tensor([0., 0., 0., 0.])"
            ]
          },
          "metadata": {
            "tags": []
          },
          "execution_count": 34
        }
      ]
    },
    {
      "metadata": {
        "id": "93ONgifzZ7fW",
        "colab_type": "text"
      },
      "cell_type": "markdown",
      "source": [
        "### Basic Tensor Ops"
      ]
    },
    {
      "metadata": {
        "id": "VtQZlUQeZ_cM",
        "colab_type": "text"
      },
      "cell_type": "markdown",
      "source": [
        "Algebra: Use the overloaded operators (+, -, *, /) OR\n",
        "- `torch.add()`\n",
        "- `torch.sub()`\n",
        "- `torch.mul()`\n",
        "- `torch.div()`"
      ]
    },
    {
      "metadata": {
        "id": "8cI0M8TgZ4NS",
        "colab_type": "code",
        "colab": {
          "base_uri": "https://localhost:8080/",
          "height": 191
        },
        "outputId": "66681b29-6ac7-4e80-b57a-537f7546e115"
      },
      "cell_type": "code",
      "source": [
        "x = torch.rand(5, 4)\n",
        "y = torch.rand(1, 4)\n",
        "print(x + y)  # Broadcasting will occur here for the addition...\n",
        "torch.mul(x, y)  # ...and for the multiplication too"
      ],
      "execution_count": 54,
      "outputs": [
        {
          "output_type": "stream",
          "text": [
            "tensor([[0.5575, 0.5594, 1.8261, 0.4196],\n",
            "        [0.8908, 0.7681, 1.4332, 0.0790],\n",
            "        [0.2040, 0.6495, 1.7331, 0.9754],\n",
            "        [0.5867, 1.0843, 1.4618, 0.6644],\n",
            "        [0.8545, 0.4693, 1.2277, 0.7880]])\n"
          ],
          "name": "stdout"
        },
        {
          "output_type": "execute_result",
          "data": {
            "text/plain": [
              "tensor([[0.0358, 0.0733, 0.8314, 0.0229],\n",
              "        [0.0606, 0.1171, 0.4543, 0.0009],\n",
              "        [0.0096, 0.0922, 0.7422, 0.0586],\n",
              "        [0.0380, 0.1834, 0.4818, 0.0386],\n",
              "        [0.0579, 0.0544, 0.2570, 0.0466]])"
            ]
          },
          "metadata": {
            "tags": []
          },
          "execution_count": 54
        }
      ]
    },
    {
      "metadata": {
        "id": "h_idh3ulalsl",
        "colab_type": "code",
        "colab": {
          "base_uri": "https://localhost:8080/",
          "height": 104
        },
        "outputId": "c75d8a78-e6bc-4e5d-88c2-49a34d3e3e6c"
      },
      "cell_type": "code",
      "source": [
        "torch.div(y, x)"
      ],
      "execution_count": 55,
      "outputs": [
        {
          "output_type": "execute_result",
          "data": {
            "text/plain": [
              "tensor([[0.1534, 0.5996, 1.1082, 0.1811],\n",
              "        [0.0908, 0.3755, 2.0282, 4.3986],\n",
              "        [0.5709, 0.4768, 1.2414, 0.0706],\n",
              "        [0.1447, 0.2398, 1.9124, 0.1072],\n",
              "        [0.0950, 0.8078, 3.5847, 0.0889]])"
            ]
          },
          "metadata": {
            "tags": []
          },
          "execution_count": 55
        }
      ]
    },
    {
      "metadata": {
        "id": "Z4knL_7XbJaJ",
        "colab_type": "text"
      },
      "cell_type": "markdown",
      "source": [
        "the `torch.*` algebraic operations are also available directly as `tensor.*`"
      ]
    },
    {
      "metadata": {
        "id": "t9oWq2GXbE7k",
        "colab_type": "code",
        "colab": {
          "base_uri": "https://localhost:8080/",
          "height": 104
        },
        "outputId": "a096db4a-f288-42dc-df8c-0c5337934a6e"
      },
      "cell_type": "code",
      "source": [
        "x.sub(y)"
      ],
      "execution_count": 56,
      "outputs": [
        {
          "output_type": "execute_result",
          "data": {
            "text/plain": [
              "tensor([[ 0.4092,  0.1400, -0.0937,  0.2910],\n",
              "        [ 0.7425,  0.3487, -0.4866, -0.0497],\n",
              "        [ 0.0557,  0.2301, -0.1866,  0.8468],\n",
              "        [ 0.4384,  0.6649, -0.4580,  0.5357],\n",
              "        [ 0.7062,  0.0499, -0.6921,  0.6594]])"
            ]
          },
          "metadata": {
            "tags": []
          },
          "execution_count": 56
        }
      ]
    },
    {
      "metadata": {
        "id": "V8-k4NL1cTNU",
        "colab_type": "text"
      },
      "cell_type": "markdown",
      "source": [
        "`tensor.*_` algebraic operations are **inplace** versions of corresponding operations. Thus, they will modify the `tensor` inplace."
      ]
    },
    {
      "metadata": {
        "id": "vSTtN-EHbXai",
        "colab_type": "code",
        "colab": {}
      },
      "cell_type": "code",
      "source": [
        "a = torch.ones(5, 4)\n",
        "b = torch.ones(1, 4)"
      ],
      "execution_count": 0,
      "outputs": []
    },
    {
      "metadata": {
        "id": "RXvERwv0brBG",
        "colab_type": "code",
        "colab": {
          "base_uri": "https://localhost:8080/",
          "height": 191
        },
        "outputId": "f7c2691f-392f-4076-d3af-241e460706e5"
      },
      "cell_type": "code",
      "source": [
        "print(a.mul(b))\n",
        "a.sub_(b)\n",
        "a  # Gets modified"
      ],
      "execution_count": 71,
      "outputs": [
        {
          "output_type": "stream",
          "text": [
            "tensor([[1., 1., 1., 1.],\n",
            "        [1., 1., 1., 1.],\n",
            "        [1., 1., 1., 1.],\n",
            "        [1., 1., 1., 1.],\n",
            "        [1., 1., 1., 1.]])\n"
          ],
          "name": "stdout"
        },
        {
          "output_type": "execute_result",
          "data": {
            "text/plain": [
              "tensor([[0., 0., 0., 0.],\n",
              "        [0., 0., 0., 0.],\n",
              "        [0., 0., 0., 0.],\n",
              "        [0., 0., 0., 0.],\n",
              "        [0., 0., 0., 0.]])"
            ]
          },
          "metadata": {
            "tags": []
          },
          "execution_count": 71
        }
      ]
    },
    {
      "metadata": {
        "id": "b4OFA7ufdw9R",
        "colab_type": "text"
      },
      "cell_type": "markdown",
      "source": [
        "_In general, the inplace variant of a function_ `.func()` _in PyTorch is_ `.func_()`"
      ]
    },
    {
      "metadata": {
        "id": "N47covZbc28t",
        "colab_type": "text"
      },
      "cell_type": "markdown",
      "source": [
        "### Basic Manipulation"
      ]
    },
    {
      "metadata": {
        "id": "YqupCGDYc5Pi",
        "colab_type": "text"
      },
      "cell_type": "markdown",
      "source": [
        "Supports Numpy-style indexing"
      ]
    },
    {
      "metadata": {
        "id": "hX-Y3md-bsGy",
        "colab_type": "code",
        "colab": {
          "base_uri": "https://localhost:8080/",
          "height": 35
        },
        "outputId": "62d3ee1c-53d6-487b-cc8f-8c5598ea2eae"
      },
      "cell_type": "code",
      "source": [
        "x = torch.randn(5, 4)\n",
        "x[:, 2]"
      ],
      "execution_count": 63,
      "outputs": [
        {
          "output_type": "execute_result",
          "data": {
            "text/plain": [
              "tensor([ 0.6829,  0.0904, -0.3956,  0.3183, -1.7091])"
            ]
          },
          "metadata": {
            "tags": []
          },
          "execution_count": 63
        }
      ]
    },
    {
      "metadata": {
        "id": "4hrPMmIGdJ1Q",
        "colab_type": "text"
      },
      "cell_type": "markdown",
      "source": [
        "However, it doesn't support negative step currently. "
      ]
    },
    {
      "metadata": {
        "id": "DfzYPc1yc_bS",
        "colab_type": "code",
        "colab": {
          "base_uri": "https://localhost:8080/",
          "height": 203
        },
        "outputId": "f220eb2b-cae0-4de3-cd1e-c93b60ef834d"
      },
      "cell_type": "code",
      "source": [
        "x[::-1]  \n",
        "# ValueError: negative step not yet supported"
      ],
      "execution_count": 72,
      "outputs": [
        {
          "output_type": "error",
          "ename": "ValueError",
          "evalue": "ignored",
          "traceback": [
            "\u001b[0;31m---------------------------------------------------------------------------\u001b[0m",
            "\u001b[0;31mValueError\u001b[0m                                Traceback (most recent call last)",
            "\u001b[0;32m<ipython-input-72-9614174f0bfe>\u001b[0m in \u001b[0;36m<module>\u001b[0;34m()\u001b[0m\n\u001b[0;32m----> 1\u001b[0;31m \u001b[0mx\u001b[0m\u001b[0;34m[\u001b[0m\u001b[0;34m:\u001b[0m\u001b[0;34m:\u001b[0m\u001b[0;34m-\u001b[0m\u001b[0;36m1\u001b[0m\u001b[0;34m]\u001b[0m\u001b[0;34m\u001b[0m\u001b[0m\n\u001b[0m\u001b[1;32m      2\u001b[0m \u001b[0;31m# ValueError: negative step not yet supported\u001b[0m\u001b[0;34m\u001b[0m\u001b[0;34m\u001b[0m\u001b[0m\n",
            "\u001b[0;31mValueError\u001b[0m: negative step not yet supported"
          ]
        }
      ]
    },
    {
      "metadata": {
        "id": "DQbmKO_udDb7",
        "colab_type": "code",
        "colab": {
          "base_uri": "https://localhost:8080/",
          "height": 35
        },
        "outputId": "80275012-04fb-46c9-8051-300c857303cd"
      },
      "cell_type": "code",
      "source": [
        "ls"
      ],
      "execution_count": 73,
      "outputs": [
        {
          "output_type": "stream",
          "text": [
            "\u001b[0m\u001b[01;34msample_data\u001b[0m/\n"
          ],
          "name": "stdout"
        }
      ]
    },
    {
      "metadata": {
        "id": "gqaS9iYOrU8L",
        "colab_type": "code",
        "colab": {}
      },
      "cell_type": "code",
      "source": [
        ""
      ],
      "execution_count": 0,
      "outputs": []
    }
  ]
}